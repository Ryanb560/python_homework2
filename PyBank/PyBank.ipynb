{
 "cells": [
  {
   "cell_type": "code",
   "execution_count": 10,
   "id": "59b0097d",
   "metadata": {},
   "outputs": [],
   "source": [
    "# Import libraries\n",
    "from pathlib import Path\n",
    "import csv\n",
    "import os"
   ]
  },
  {
   "cell_type": "code",
   "execution_count": 12,
   "id": "6814143f",
   "metadata": {},
   "outputs": [],
   "source": [
    "# data file CSV\n",
    "budget_data = Path(\"budget_data.csv\")"
   ]
  },
  {
   "cell_type": "code",
   "execution_count": 24,
   "id": "9b26b3d2",
   "metadata": {},
   "outputs": [],
   "source": [
    "# read the CSV\n",
    "with open(budget_data, newline=\"\") as csvfile:\n",
    "    \n",
    "    \n",
    "    # Read header row\n",
    "    csvreader = csv.reader(csvfile, delimiter=\",\")\n",
    "    csv_header = next(csvfile)\n",
    "    #print(f\"Header: {csv_header}\")\n",
    " "
   ]
  },
  {
   "cell_type": "code",
   "execution_count": 24,
   "id": "3c4d5e46",
   "metadata": {},
   "outputs": [],
   "source": [
    "    # variables\n",
    "    Months = []\n",
    "    Profit_Loss = []\n",
    "    Change = []\n",
    "    Greatest_Increase_Date = \"\"\n",
    "    Greatest_Decrease_Date = \"\"\n",
    "    "
   ]
  },
  {
   "cell_type": "code",
   "execution_count": 24,
   "id": "1cf5a556",
   "metadata": {},
   "outputs": [
    {
     "name": "stdout",
     "output_type": "stream",
     "text": [
      "Financial Analysis\n",
      "-------------------------------\n",
      "Total Months:  86\n",
      "Net Total: $ 38382578\n",
      "Average Change: $ -2315\n",
      "Greatest Increase:  Jan-2012 ($ 1926159 )\n",
      "Greatest Decrease:  Aug-2013 ($ -2196167 )\n"
     ]
    }
   ],
   "source": [
    "    # total number of months\n",
    "    for row in csvreader:\n",
    "        Months.append(row[0])   \n",
    "        Profit_Loss.append(int(row[1]))\n",
    "      \n",
    "    \n",
    "    # Print Statements\n",
    "    print(\"Financial Analysis\")\n",
    "    print(\"-------------------------------\")\n",
    "    print(\"Total Months: \", len(Months))\n",
    "    print(\"Net Total: $\", sum(Profit_Loss))\n",
    "    \n",
    "\n",
    "    for P in range(1, len(Profit_Loss)):\n",
    "        \n",
    "        # Find difference\n",
    "        Change.append(Profit_Loss[P] - Profit_Loss[P-1])\n",
    "        \n",
    "        # Find average\n",
    "        Average_Change = sum(Change) / len(Change)\n",
    "        \n",
    "        # greatest increase\n",
    "        Greatest_Increase = max(Change)\n",
    "        Greatest_Increase_Date = str(Months[Change.index(max(Change))])\n",
    "        \n",
    "        \n",
    "        # greatest decrease\n",
    "        Greatest_Decrease = min(Change)\n",
    "        Greatest_Decrease_Date = str(Months[Change.index(min(Change))])\n",
    "        \n",
    "    # Print Statements\n",
    "    print(\"Average Change: $\", round(Average_Change))  \n",
    "    print(\"Greatest Increase: \", Greatest_Increase_Date, \"($\", Greatest_Increase,\")\")\n",
    "    print(\"Greatest Decrease: \", Greatest_Decrease_Date, \"($\", Greatest_Decrease,\")\")"
   ]
  },
  {
   "cell_type": "code",
   "execution_count": null,
   "id": "bae073a8",
   "metadata": {},
   "outputs": [],
   "source": []
  }
 ],
 "metadata": {
  "kernelspec": {
   "display_name": "Python 3",
   "language": "python",
   "name": "python3"
  },
  "language_info": {
   "codemirror_mode": {
    "name": "ipython",
    "version": 3
   },
   "file_extension": ".py",
   "mimetype": "text/x-python",
   "name": "python",
   "nbconvert_exporter": "python",
   "pygments_lexer": "ipython3",
   "version": "3.8.5"
  }
 },
 "nbformat": 4,
 "nbformat_minor": 5
}
